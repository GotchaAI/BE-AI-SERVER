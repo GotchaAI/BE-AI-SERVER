{
 "cells": [
  {
   "cell_type": "code",
   "execution_count": 2,
   "id": "84612cf8",
   "metadata": {},
   "outputs": [],
   "source": [
    "# all name of the quick drawings\n",
    "classes = [\n",
    "    \"aircraft carrier\",\n",
    "    \"airplane\",\n",
    "    \"alarm clock\",\n",
    "    \"ambulance\",\n",
    "    \"angel\",\n",
    "    \"animal migration\",\n",
    "    \"ant\",\n",
    "    \"anvil\",\n",
    "    \"apple\",\n",
    "    \"arm\",\n",
    "    \"asparagus\",\n",
    "    \"axe\",\n",
    "    \"backpack\",\n",
    "    \"banana\",\n",
    "    \"bandage\",\n",
    "    \"barn\",\n",
    "    \"baseball bat\",\n",
    "    \"baseball\",\n",
    "    \"basket\",\n",
    "    \"basketball\",\n",
    "    \"bat\",\n",
    "    \"bathtub\",\n",
    "    \"beach\",\n",
    "    \"bear\",\n",
    "    \"beard\",\n",
    "    \"bed\",\n",
    "    \"bee\",\n",
    "    \"belt\",\n",
    "    \"bench\",\n",
    "    \"bicycle\",\n",
    "    \"binoculars\",\n",
    "    \"bird\",\n",
    "    \"birthday cake\",\n",
    "    \"blackberry\",\n",
    "    \"blueberry\",\n",
    "    \"book\",\n",
    "    \"boomerang\",\n",
    "    \"bottlecap\",\n",
    "    \"bowtie\",\n",
    "    \"bracelet\",\n",
    "    \"brain\",\n",
    "    \"bread\",\n",
    "    \"bridge\",\n",
    "    \"broccoli\",\n",
    "    \"broom\",\n",
    "    \"bucket\",\n",
    "    \"bulldozer\",\n",
    "    \"bus\",\n",
    "    \"bush\",\n",
    "    \"butterfly\",\n",
    "    \"cactus\",\n",
    "    \"cake\",\n",
    "    \"calculator\",\n",
    "    \"calendar\",\n",
    "    \"camel\",\n",
    "    \"camera\",\n",
    "    \"camouflage\",\n",
    "    \"campfire\",\n",
    "    \"candle\",\n",
    "    \"cannon\",\n",
    "    \"canoe\",\n",
    "    \"car\",\n",
    "    \"carrot\",\n",
    "    \"castle\",\n",
    "    \"cat\",\n",
    "    \"ceiling fan\",\n",
    "    \"cell phone\",\n",
    "    \"cello\",\n",
    "    \"chair\",\n",
    "    \"chandelier\",\n",
    "    \"church\",\n",
    "    \"circle\",\n",
    "    \"clarinet\",\n",
    "    \"clock\",\n",
    "    \"cloud\",\n",
    "    \"coffee cup\",\n",
    "    \"compass\",\n",
    "    \"computer\",\n",
    "    \"cookie\",\n",
    "    \"cooler\",\n",
    "    \"couch\",\n",
    "    \"cow\",\n",
    "    \"crab\",\n",
    "    \"crayon\",\n",
    "    \"crocodile\",\n",
    "    \"crown\",\n",
    "    \"cruise ship\",\n",
    "    \"cup\",\n",
    "    \"diamond\",\n",
    "    \"dishwasher\",\n",
    "    \"diving board\",\n",
    "    \"dog\",\n",
    "    \"dolphin\",\n",
    "    \"donut\",\n",
    "    \"door\",\n",
    "    \"dragon\",\n",
    "    \"dresser\",\n",
    "    \"drill\",\n",
    "    \"drums\",\n",
    "    \"duck\",\n",
    "    \"dumbbell\",\n",
    "    \"ear\",\n",
    "    \"elbow\",\n",
    "    \"elephant\",\n",
    "    \"envelope\",\n",
    "    \"eraser\",\n",
    "    \"eye\",\n",
    "    \"eyeglasses\",\n",
    "    \"face\",\n",
    "    \"fan\",\n",
    "    \"feather\",\n",
    "    \"fence\",\n",
    "    \"finger\",\n",
    "    \"fire hydrant\",\n",
    "    \"fireplace\",\n",
    "    \"firetruck\",\n",
    "    \"fish\",\n",
    "    \"flamingo\",\n",
    "    \"flashlight\",\n",
    "    \"flip flops\",\n",
    "    \"floor lamp\",\n",
    "    \"flower\",\n",
    "    \"flying saucer\",\n",
    "    \"foot\",\n",
    "    \"fork\",\n",
    "    \"frog\",\n",
    "    \"frying pan\",\n",
    "    \"garden hose\",\n",
    "    \"garden\",\n",
    "    \"giraffe\",\n",
    "    \"goatee\",\n",
    "    \"golf club\",\n",
    "    \"grapes\",\n",
    "    \"grass\",\n",
    "    \"guitar\",\n",
    "    \"hamburger\",\n",
    "    \"hammer\",\n",
    "    \"hand\",\n",
    "    \"harp\",\n",
    "    \"hat\",\n",
    "    \"headphones\",\n",
    "    \"hedgehog\",\n",
    "    \"helicopter\",\n",
    "    \"helmet\",\n",
    "    \"hexagon\",\n",
    "    \"hockey puck\",\n",
    "    \"hockey stick\",\n",
    "    \"horse\",\n",
    "    \"hospital\",\n",
    "    \"hot air balloon\",\n",
    "    \"hot dog\",\n",
    "    \"hot tub\",\n",
    "    \"hourglass\",\n",
    "    \"house plant\",\n",
    "    \"house\",\n",
    "    \"hurricane\",\n",
    "    \"ice cream\",\n",
    "    \"jacket\",\n",
    "    \"jail\",\n",
    "    \"kangaroo\",\n",
    "    \"key\",\n",
    "    \"keyboard\",\n",
    "    \"knee\",\n",
    "    \"knife\",\n",
    "    \"ladder\",\n",
    "    \"lantern\",\n",
    "    \"laptop\",\n",
    "    \"leaf\",\n",
    "    \"leg\",\n",
    "    \"light bulb\",\n",
    "    \"lighter\",\n",
    "    \"lighthouse\",\n",
    "    \"lightning\",\n",
    "    \"line\",\n",
    "    \"lion\",\n",
    "    \"lipstick\",\n",
    "    \"lobster\",\n",
    "    \"lollipop\",\n",
    "    \"mailbox\",\n",
    "    \"map\",\n",
    "    \"marker\",\n",
    "    \"matches\",\n",
    "    \"megaphone\",\n",
    "    \"mermaid\",\n",
    "    \"microphone\",\n",
    "    \"microwave\",\n",
    "    \"monkey\",\n",
    "    \"moon\",\n",
    "    \"mosquito\",\n",
    "    \"motorbike\",\n",
    "    \"mountain\",\n",
    "    \"mouse\",\n",
    "    \"moustache\",\n",
    "    \"mouth\",\n",
    "    \"mug\",\n",
    "    \"mushroom\",\n",
    "    \"nail\",\n",
    "    \"necklace\",\n",
    "    \"nose\",\n",
    "    \"ocean\",\n",
    "    \"octagon\",\n",
    "    \"octopus\",\n",
    "    \"onion\",\n",
    "    \"oven\",\n",
    "    \"owl\",\n",
    "    \"paint can\",\n",
    "    \"paintbrush\",\n",
    "    \"palm tree\",\n",
    "    \"panda\",\n",
    "    \"pants\",\n",
    "    \"paper clip\",\n",
    "    \"parachute\",\n",
    "    \"parrot\",\n",
    "    \"passport\",\n",
    "    \"peanut\",\n",
    "    \"pear\",\n",
    "    \"peas\",\n",
    "    \"pencil\",\n",
    "    \"penguin\",\n",
    "    \"piano\",\n",
    "    \"pickup truck\",\n",
    "    \"picture frame\",\n",
    "    \"pig\",\n",
    "    \"pillow\",\n",
    "    \"pineapple\",\n",
    "    \"pizza\",\n",
    "    \"pliers\",\n",
    "    \"police car\",\n",
    "    \"pond\",\n",
    "    \"pool\",\n",
    "    \"popsicle\",\n",
    "    \"postcard\",\n",
    "    \"potato\",\n",
    "    \"power outlet\",\n",
    "    \"purse\",\n",
    "    \"rabbit\",\n",
    "    \"raccoon\",\n",
    "    \"radio\",\n",
    "    \"rain\",\n",
    "    \"rainbow\",\n",
    "    \"rake\",\n",
    "    \"remote control\",\n",
    "    \"rhinoceros\",\n",
    "    \"rifle\",\n",
    "    \"river\",\n",
    "    \"roller coaster\",\n",
    "    \"rollerskates\",\n",
    "    \"sailboat\",\n",
    "    \"sandwich\",\n",
    "    \"saw\",\n",
    "    \"saxophone\",\n",
    "    \"school bus\",\n",
    "    \"scissors\",\n",
    "    \"scorpion\",\n",
    "    \"screwdriver\",\n",
    "    \"sea turtle\",\n",
    "    \"see saw\",\n",
    "    \"shark\",\n",
    "    \"sheep\",\n",
    "    \"shoe\",\n",
    "    \"shorts\",\n",
    "    \"shovel\",\n",
    "    \"sink\",\n",
    "    \"skateboard\",\n",
    "    \"skull\",\n",
    "    \"skyscraper\",\n",
    "    \"sleeping bag\",\n",
    "    \"smiley face\",\n",
    "    \"snail\",\n",
    "    \"snake\",\n",
    "    \"snorkel\",\n",
    "    \"snowflake\",\n",
    "    \"snowman\",\n",
    "    \"soccer ball\",\n",
    "    \"sock\",\n",
    "    \"speedboat\",\n",
    "    \"spider\",\n",
    "    \"spoon\",\n",
    "    \"spreadsheet\",\n",
    "    \"square\",\n",
    "    \"squiggle\",\n",
    "    \"squirrel\",\n",
    "    \"stairs\",\n",
    "    \"star\",\n",
    "    \"steak\",\n",
    "    \"stereo\",\n",
    "    \"stethoscope\",\n",
    "    \"stitches\",\n",
    "    \"stop sign\",\n",
    "    \"stove\",\n",
    "    \"strawberry\",\n",
    "    \"streetlight\",\n",
    "    \"string bean\",\n",
    "    \"submarine\",\n",
    "    \"suitcase\",\n",
    "    \"sun\",\n",
    "    \"swan\",\n",
    "    \"sweater\",\n",
    "    \"swing set\",\n",
    "    \"sword\",\n",
    "    \"syringe\",\n",
    "    \"t-shirt\",\n",
    "    \"table\",\n",
    "    \"teapot\",\n",
    "    \"teddy-bear\",\n",
    "    \"telephone\",\n",
    "    \"television\",\n",
    "    \"tennis racquet\",\n",
    "    \"tent\",\n",
    "    \"The Eiffel Tower\",\n",
    "    \"The Great Wall of China\",\n",
    "    \"The Mona Lisa\",\n",
    "    \"tiger\",\n",
    "    \"toaster\",\n",
    "    \"toe\",\n",
    "    \"toilet\",\n",
    "    \"tooth\",\n",
    "    \"toothbrush\",\n",
    "    \"toothpaste\",\n",
    "    \"tornado\",\n",
    "    \"tractor\",\n",
    "    \"traffic light\",\n",
    "    \"train\",\n",
    "    \"tree\",\n",
    "    \"triangle\",\n",
    "    \"trombone\",\n",
    "    \"truck\",\n",
    "    \"trumpet\",\n",
    "    \"umbrella\",\n",
    "    \"underwear\",\n",
    "    \"van\",\n",
    "    \"vase\",\n",
    "    \"violin\",\n",
    "    \"washing machine\",\n",
    "    \"watermelon\",\n",
    "    \"waterslide\",\n",
    "    \"whale\",\n",
    "    \"wheel\",\n",
    "    \"windmill\",\n",
    "    \"wine bottle\",\n",
    "    \"wine glass\",\n",
    "    \"wristwatch\",\n",
    "    \"yoga\",\n",
    "    \"zebra\",\n",
    "    \"zigzag\",\n",
    "    ]"
   ]
  },
  {
   "cell_type": "code",
   "execution_count": 1,
   "id": "26aa66aa",
   "metadata": {},
   "outputs": [],
   "source": [
    "import os\n",
    "import torch\n",
    "import torch.nn as nn\n",
    "import torch.optim as optim\n",
    "from torch.utils.data import DataLoader\n",
    "from torchvision import datasets, transforms, models\n",
    "from torchvision.models import efficientnet_b0, EfficientNet_B0_Weights\n",
    "import matplotlib.pyplot as plt\n",
    "import numpy as np\n",
    "import time\n",
    "from tqdm import tqdm"
   ]
  },
  {
   "cell_type": "code",
   "execution_count": 3,
   "id": "2a58206e",
   "metadata": {},
   "outputs": [
    {
     "name": "stdout",
     "output_type": "stream",
     "text": [
      "사용 장치: cuda:0\n"
     ]
    }
   ],
   "source": [
    "# 장치 설정\n",
    "device = torch.device(\"cuda:0\" if torch.cuda.is_available() else \"cpu\")\n",
    "print(f\"사용 장치: {device}\")"
   ]
  },
  {
   "cell_type": "code",
   "execution_count": 4,
   "id": "39cbc6a7",
   "metadata": {},
   "outputs": [],
   "source": [
    "# 데이터 경로\n",
    "data_dir = \"../../../../Desktop/BE_thief/train/quickdraw_dataset\""
   ]
  },
  {
   "cell_type": "code",
   "execution_count": 5,
   "id": "d220311a",
   "metadata": {},
   "outputs": [
    {
     "data": {
      "text/plain": [
       "'12.8'"
      ]
     },
     "execution_count": 5,
     "metadata": {},
     "output_type": "execute_result"
    }
   ],
   "source": [
    "torch.version.cuda"
   ]
  },
  {
   "cell_type": "code",
   "execution_count": 6,
   "id": "d260f5dc",
   "metadata": {},
   "outputs": [],
   "source": [
    "# 데이터 전처리 및 증강\n",
    "data_transforms = {\n",
    "    'train': transforms.Compose([\n",
    "        transforms.Resize(256),\n",
    "        transforms.CenterCrop(224),\n",
    "        transforms.RandomHorizontalFlip(),\n",
    "        transforms.RandomRotation(10),\n",
    "        transforms.ToTensor(),\n",
    "        transforms.Normalize([0.485, 0.456, 0.406], [0.229, 0.224, 0.225])\n",
    "    ]),\n",
    "    'val': transforms.Compose([\n",
    "        transforms.Resize(256),\n",
    "        transforms.CenterCrop(224),\n",
    "        transforms.ToTensor(),\n",
    "        transforms.Normalize([0.485, 0.456, 0.406], [0.229, 0.224, 0.225])\n",
    "    ]),\n",
    "}"
   ]
  },
  {
   "cell_type": "code",
   "execution_count": 7,
   "id": "e9a7a418",
   "metadata": {},
   "outputs": [],
   "source": [
    "# 데이터셋 로드\n",
    "def load_datasets():\n",
    "    # train과 validation 폴더가 미리 나누어져 있다고 가정\n",
    "    # 없다면 아래 주석 처리된 코드를 사용하여 데이터셋을 분할할 수 있습니다\n",
    "    \n",
    "    # 데이터셋이 이미 train/val로 나뉘어 있는 경우\n",
    "    if os.path.isdir(os.path.join(data_dir, 'train')) and os.path.isdir(os.path.join(data_dir, 'val')):\n",
    "        image_datasets = {\n",
    "            'train': datasets.ImageFolder(os.path.join(data_dir, 'train'), data_transforms['train']),\n",
    "            'val': datasets.ImageFolder(os.path.join(data_dir, 'val'), data_transforms['val'])\n",
    "        }\n",
    "    else:\n",
    "        # 데이터셋이 나뉘어 있지 않은 경우, 전체 데이터셋을 로드하고 분할\n",
    "        full_dataset = datasets.ImageFolder(data_dir, data_transforms['train'])\n",
    "        \n",
    "        # 클래스 이름과 인덱스 가져오기\n",
    "        class_names = full_dataset.classes\n",
    "        print(f\"클래스 개수: {len(class_names)}\")\n",
    "        print(f\"클래스 목록: {class_names}\")\n",
    "        \n",
    "        # 데이터셋 분할 (80% 훈련, 20% 검증)\n",
    "        train_size = int(0.8 * len(full_dataset))\n",
    "        val_size = len(full_dataset) - train_size\n",
    "        train_dataset, val_dataset = torch.utils.data.random_split(full_dataset, [train_size, val_size])\n",
    "        \n",
    "        # val 데이터셋은 다른 변환 적용\n",
    "        val_dataset.dataset.transform = data_transforms['val']\n",
    "        \n",
    "        image_datasets = {\n",
    "            'train': train_dataset,\n",
    "            'val': val_dataset\n",
    "        }\n",
    "    \n",
    "    # 데이터로더 생성\n",
    "    dataloaders = {\n",
    "        'train': DataLoader(image_datasets['train'], batch_size=32, shuffle=True, num_workers=4),\n",
    "        'val': DataLoader(image_datasets['val'], batch_size=32, shuffle=False, num_workers=4)\n",
    "    }\n",
    "    \n",
    "    dataset_sizes = {x: len(image_datasets[x]) for x in ['train', 'val']}\n",
    "    class_names = image_datasets['train'].dataset.classes if hasattr(image_datasets['train'], 'dataset') else image_datasets['train'].classes\n",
    "    \n",
    "    print(f\"데이터셋 크기: train={dataset_sizes['train']}, val={dataset_sizes['val']}\")\n",
    "    print(f\"클래스 개수: {len(class_names)}\")\n",
    "    \n",
    "    return dataloaders, dataset_sizes, class_names"
   ]
  },
  {
   "cell_type": "code",
   "execution_count": 8,
   "id": "d8efa701",
   "metadata": {},
   "outputs": [],
   "source": [
    "# EfficientNet-B0 모델 로드 및 수정\n",
    "def setup_model(num_classes):\n",
    "    # 사전 훈련된 EfficientNet-B0 모델 불러오기\n",
    "    model = efficientnet_b0(weights=EfficientNet_B0_Weights.IMAGENET1K_V1)\n",
    "    \n",
    "    # 마지막 분류기 레이어 수정 (QuickDraw 클래스 수에 맞게)\n",
    "    num_ftrs = model.classifier[1].in_features\n",
    "    model.classifier[1] = nn.Linear(num_ftrs, num_classes)\n",
    "    \n",
    "    # 모델을 지정된 장치(GPU/CPU)로 이동\n",
    "    model = model.to(device)\n",
    "    \n",
    "    return model"
   ]
  },
  {
   "cell_type": "code",
   "execution_count": 9,
   "id": "9442775c",
   "metadata": {},
   "outputs": [],
   "source": [
    "\n",
    "# 학습 함수\n",
    "def train_model(model, dataloaders, dataset_sizes, criterion, optimizer, scheduler, num_epochs=25):\n",
    "    since = time.time()\n",
    "    \n",
    "    best_model_wts = model.state_dict()\n",
    "    best_acc = 0.0\n",
    "    \n",
    "    # 학습 과정 기록\n",
    "    history = {\n",
    "        'train_loss': [],\n",
    "        'val_loss': [],\n",
    "        'train_acc': [],\n",
    "        'val_acc': []\n",
    "    }\n",
    "    \n",
    "    for epoch in range(num_epochs):\n",
    "        print(f'Epoch {epoch+1}/{num_epochs}')\n",
    "        print('-' * 10)\n",
    "        \n",
    "        # 각 에포크는 학습과 검증 단계가 있음\n",
    "        for phase in ['train', 'val']:\n",
    "            if phase == 'train':\n",
    "                model.train()  # 학습 모드 설정\n",
    "            else:\n",
    "                model.eval()   # 평가 모드 설정\n",
    "                \n",
    "            running_loss = 0.0\n",
    "            running_corrects = 0\n",
    "            \n",
    "            # 데이터 반복\n",
    "            for inputs, labels in tqdm(dataloaders[phase]):\n",
    "                inputs = inputs.to(device)\n",
    "                labels = labels.to(device)\n",
    "                \n",
    "                # 파라미터 그래디언트 초기화\n",
    "                optimizer.zero_grad()\n",
    "                \n",
    "                # 순전파\n",
    "                with torch.set_grad_enabled(phase == 'train'):\n",
    "                    outputs = model(inputs)\n",
    "                    _, preds = torch.max(outputs, 1)\n",
    "                    loss = criterion(outputs, labels)\n",
    "                    \n",
    "                    # 학습 단계일 경우 역전파 + 최적화\n",
    "                    if phase == 'train':\n",
    "                        loss.backward()\n",
    "                        optimizer.step()\n",
    "                \n",
    "                # 통계\n",
    "                running_loss += loss.item() * inputs.size(0)\n",
    "                running_corrects += torch.sum(preds == labels.data)\n",
    "            \n",
    "            if phase == 'train' and scheduler is not None:\n",
    "                scheduler.step()\n",
    "                \n",
    "            epoch_loss = running_loss / dataset_sizes[phase]\n",
    "            epoch_acc = running_corrects.double() / dataset_sizes[phase]\n",
    "            \n",
    "            # 기록 저장\n",
    "            if phase == 'train':\n",
    "                history['train_loss'].append(epoch_loss)\n",
    "                history['train_acc'].append(epoch_acc.item())\n",
    "            else:\n",
    "                history['val_loss'].append(epoch_loss)\n",
    "                history['val_acc'].append(epoch_acc.item())\n",
    "            \n",
    "            print(f'{phase} Loss: {epoch_loss:.4f} Acc: {epoch_acc:.4f}')\n",
    "            \n",
    "            # 모델을 복사 (최고의 검증 정확도를 기록한 경우)\n",
    "            if phase == 'val' and epoch_acc > best_acc:\n",
    "                best_acc = epoch_acc\n",
    "                best_model_wts = model.state_dict()\n",
    "        \n",
    "        print()\n",
    "    \n",
    "    time_elapsed = time.time() - since\n",
    "    print(f'학습 완료: {time_elapsed // 60:.0f}m {time_elapsed % 60:.0f}s')\n",
    "    print(f'최고 검증 정확도: {best_acc:.4f}')\n",
    "    \n",
    "    # 가장 좋은 모델 가중치 불러오기\n",
    "    model.load_state_dict(best_model_wts)\n",
    "    return model, history"
   ]
  },
  {
   "cell_type": "code",
   "execution_count": 10,
   "id": "f6339dda",
   "metadata": {},
   "outputs": [],
   "source": [
    "# 학습 결과 시각화\n",
    "def plot_training_history(history):\n",
    "    plt.figure(figsize=(12, 4))\n",
    "    \n",
    "    plt.subplot(1, 2, 1)\n",
    "    plt.plot(history['train_loss'], label='Train Loss')\n",
    "    plt.plot(history['val_loss'], label='Validation Loss')\n",
    "    plt.xlabel('Epoch')\n",
    "    plt.ylabel('Loss')\n",
    "    plt.legend()\n",
    "    plt.title('Training and Validation Loss')\n",
    "    \n",
    "    plt.subplot(1, 2, 2)\n",
    "    plt.plot(history['train_acc'], label='Train Accuracy')\n",
    "    plt.plot(history['val_acc'], label='Validation Accuracy')\n",
    "    plt.xlabel('Epoch')\n",
    "    plt.ylabel('Accuracy')\n",
    "    plt.legend()\n",
    "    plt.title('Training and Validation Accuracy')\n",
    "    \n",
    "    plt.tight_layout()\n",
    "    plt.savefig('training_history.png')\n",
    "    plt.show()"
   ]
  },
  {
   "cell_type": "code",
   "execution_count": 11,
   "id": "2c7e0547",
   "metadata": {},
   "outputs": [],
   "source": [
    "# 모델 저장 함수\n",
    "def save_model(model, class_names, filename='efficientnet_b0_quickdraw.pth'):\n",
    "    model_info = {\n",
    "        'model_state_dict': model.state_dict(),\n",
    "        'class_names': class_names,\n",
    "        'model_name': 'efficientnet_b0'\n",
    "    }\n",
    "    torch.save(model_info, filename)\n",
    "    print(f\"모델이 {filename}에 저장되었습니다.\")"
   ]
  },
  {
   "cell_type": "code",
   "execution_count": 12,
   "id": "d985a0f8",
   "metadata": {},
   "outputs": [],
   "source": [
    "\n",
    "# 테스트 세트에서 모델 평가\n",
    "def evaluate_model(model, test_loader):\n",
    "    model.eval()\n",
    "    correct = 0\n",
    "    total = 0\n",
    "    \n",
    "    with torch.no_grad():\n",
    "        for inputs, labels in tqdm(test_loader):\n",
    "            inputs = inputs.to(device)\n",
    "            labels = labels.to(device)\n",
    "            \n",
    "            outputs = model(inputs)\n",
    "            _, predicted = torch.max(outputs.data, 1)\n",
    "            \n",
    "            total += labels.size(0)\n",
    "            correct += (predicted == labels).sum().item()\n",
    "    \n",
    "    accuracy = 100 * correct / total\n",
    "    print(f'테스트 정확도: {accuracy:.2f}%')\n",
    "    return accuracy"
   ]
  },
  {
   "cell_type": "code",
   "execution_count": 13,
   "id": "bda50278",
   "metadata": {},
   "outputs": [],
   "source": [
    "\n",
    "def main():\n",
    "    # 데이터 로드\n",
    "    dataloaders, dataset_sizes, class_names = load_datasets()\n",
    "    \n",
    "    # 모델 설정\n",
    "    num_classes = len(class_names)\n",
    "    model = setup_model(num_classes)\n",
    "    \n",
    "    # 손실 함수와 옵티마이저 설정\n",
    "    criterion = nn.CrossEntropyLoss()\n",
    "    optimizer = optim.AdamW(model.parameters(), lr=0.001, weight_decay=1e-4)\n",
    "    \n",
    "    # 학습률 스케줄러 (10 에포크마다 학습률을 0.1배로 감소)\n",
    "    scheduler = optim.lr_scheduler.StepLR(optimizer, step_size=10, gamma=0.1)\n",
    "    \n",
    "    # 모델 학습\n",
    "    print(\"모델 학습 시작...\")\n",
    "    model, history = train_model(model, dataloaders, dataset_sizes, criterion, optimizer, scheduler, num_epochs=20)\n",
    "    \n",
    "    # 학습 결과 시각화\n",
    "    plot_training_history(history)\n",
    "    \n",
    "    # 검증 세트에서 평가\n",
    "    print(\"검증 세트에서 모델 평가 중...\")\n",
    "    evaluate_model(model, dataloaders['val'])\n",
    "    \n",
    "    # 모델 저장\n",
    "    save_model(model, class_names)\n"
   ]
  },
  {
   "cell_type": "code",
   "execution_count": 14,
   "id": "6ca361f7",
   "metadata": {},
   "outputs": [
    {
     "name": "stdout",
     "output_type": "stream",
     "text": [
      "클래스 개수: 345\n",
      "클래스 목록: ['The_Eiffel_Tower', 'The_Great_Wall_of_China', 'The_Mona_Lisa', 'aircraft_carrier', 'airplane', 'alarm_clock', 'ambulance', 'angel', 'animal_migration', 'ant', 'anvil', 'apple', 'arm', 'asparagus', 'axe', 'backpack', 'banana', 'bandage', 'barn', 'baseball', 'baseball_bat', 'basket', 'basketball', 'bat', 'bathtub', 'beach', 'bear', 'beard', 'bed', 'bee', 'belt', 'bench', 'bicycle', 'binoculars', 'bird', 'birthday_cake', 'blackberry', 'blueberry', 'book', 'boomerang', 'bottlecap', 'bowtie', 'bracelet', 'brain', 'bread', 'bridge', 'broccoli', 'broom', 'bucket', 'bulldozer', 'bus', 'bush', 'butterfly', 'cactus', 'cake', 'calculator', 'calendar', 'camel', 'camera', 'camouflage', 'campfire', 'candle', 'cannon', 'canoe', 'car', 'carrot', 'castle', 'cat', 'ceiling_fan', 'cell_phone', 'cello', 'chair', 'chandelier', 'church', 'circle', 'clarinet', 'clock', 'cloud', 'coffee_cup', 'compass', 'computer', 'cookie', 'cooler', 'couch', 'cow', 'crab', 'crayon', 'crocodile', 'crown', 'cruise_ship', 'cup', 'diamond', 'dishwasher', 'diving_board', 'dog', 'dolphin', 'donut', 'door', 'dragon', 'dresser', 'drill', 'drums', 'duck', 'dumbbell', 'ear', 'elbow', 'elephant', 'envelope', 'eraser', 'eye', 'eyeglasses', 'face', 'fan', 'feather', 'fence', 'finger', 'fire_hydrant', 'fireplace', 'firetruck', 'fish', 'flamingo', 'flashlight', 'flip_flops', 'floor_lamp', 'flower', 'flying_saucer', 'foot', 'fork', 'frog', 'frying_pan', 'garden', 'garden_hose', 'giraffe', 'goatee', 'golf_club', 'grapes', 'grass', 'guitar', 'hamburger', 'hammer', 'hand', 'harp', 'hat', 'headphones', 'hedgehog', 'helicopter', 'helmet', 'hexagon', 'hockey_puck', 'hockey_stick', 'horse', 'hospital', 'hot_air_balloon', 'hot_dog', 'hot_tub', 'hourglass', 'house', 'house_plant', 'hurricane', 'ice_cream', 'jacket', 'jail', 'kangaroo', 'key', 'keyboard', 'knee', 'knife', 'ladder', 'lantern', 'laptop', 'leaf', 'leg', 'light_bulb', 'lighter', 'lighthouse', 'lightning', 'line', 'lion', 'lipstick', 'lobster', 'lollipop', 'mailbox', 'map', 'marker', 'matches', 'megaphone', 'mermaid', 'microphone', 'microwave', 'monkey', 'moon', 'mosquito', 'motorbike', 'mountain', 'mouse', 'moustache', 'mouth', 'mug', 'mushroom', 'nail', 'necklace', 'nose', 'ocean', 'octagon', 'octopus', 'onion', 'oven', 'owl', 'paint_can', 'paintbrush', 'palm_tree', 'panda', 'pants', 'paper_clip', 'parachute', 'parrot', 'passport', 'peanut', 'pear', 'peas', 'pencil', 'penguin', 'piano', 'pickup_truck', 'picture_frame', 'pig', 'pillow', 'pineapple', 'pizza', 'pliers', 'police_car', 'pond', 'pool', 'popsicle', 'postcard', 'potato', 'power_outlet', 'purse', 'rabbit', 'raccoon', 'radio', 'rain', 'rainbow', 'rake', 'remote_control', 'rhinoceros', 'rifle', 'river', 'roller_coaster', 'rollerskates', 'sailboat', 'sandwich', 'saw', 'saxophone', 'school_bus', 'scissors', 'scorpion', 'screwdriver', 'sea_turtle', 'see_saw', 'shark', 'sheep', 'shoe', 'shorts', 'shovel', 'sink', 'skateboard', 'skull', 'skyscraper', 'sleeping_bag', 'smiley_face', 'snail', 'snake', 'snorkel', 'snowflake', 'snowman', 'soccer_ball', 'sock', 'speedboat', 'spider', 'spoon', 'spreadsheet', 'square', 'squiggle', 'squirrel', 'stairs', 'star', 'steak', 'stereo', 'stethoscope', 'stitches', 'stop_sign', 'stove', 'strawberry', 'streetlight', 'string_bean', 'submarine', 'suitcase', 'sun', 'swan', 'sweater', 'swing_set', 'sword', 'syringe', 't-shirt', 'table', 'teapot', 'teddy-bear', 'telephone', 'television', 'tennis_racquet', 'tent', 'tiger', 'toaster', 'toe', 'toilet', 'tooth', 'toothbrush', 'toothpaste', 'tornado', 'tractor', 'traffic_light', 'train', 'tree', 'triangle', 'trombone', 'truck', 'trumpet', 'umbrella', 'underwear', 'van', 'vase', 'violin', 'washing_machine', 'watermelon', 'waterslide', 'whale', 'wheel', 'windmill', 'wine_bottle', 'wine_glass', 'wristwatch', 'yoga', 'zebra', 'zigzag']\n",
      "데이터셋 크기: train=828000, val=207000\n",
      "클래스 개수: 345\n",
      "모델 학습 시작...\n",
      "Epoch 1/20\n",
      "----------\n"
     ]
    },
    {
     "name": "stderr",
     "output_type": "stream",
     "text": [
      "100%|██████████| 25875/25875 [48:52<00:00,  8.82it/s]\n"
     ]
    },
    {
     "name": "stdout",
     "output_type": "stream",
     "text": [
      "train Loss: 1.6663 Acc: 0.5972\n"
     ]
    },
    {
     "name": "stderr",
     "output_type": "stream",
     "text": [
      "100%|██████████| 6469/6469 [04:01<00:00, 26.83it/s]\n"
     ]
    },
    {
     "name": "stdout",
     "output_type": "stream",
     "text": [
      "val Loss: 1.3146 Acc: 0.6749\n",
      "\n",
      "Epoch 2/20\n",
      "----------\n"
     ]
    },
    {
     "name": "stderr",
     "output_type": "stream",
     "text": [
      "100%|██████████| 25875/25875 [48:57<00:00,  8.81it/s]\n"
     ]
    },
    {
     "name": "stdout",
     "output_type": "stream",
     "text": [
      "train Loss: 1.2951 Acc: 0.6768\n"
     ]
    },
    {
     "name": "stderr",
     "output_type": "stream",
     "text": [
      "100%|██████████| 6469/6469 [04:02<00:00, 26.71it/s]\n"
     ]
    },
    {
     "name": "stdout",
     "output_type": "stream",
     "text": [
      "val Loss: 1.2120 Acc: 0.6995\n",
      "\n",
      "Epoch 3/20\n",
      "----------\n"
     ]
    },
    {
     "name": "stderr",
     "output_type": "stream",
     "text": [
      "100%|██████████| 25875/25875 [47:15<00:00,  9.13it/s]\n"
     ]
    },
    {
     "name": "stdout",
     "output_type": "stream",
     "text": [
      "train Loss: 1.1890 Acc: 0.6994\n"
     ]
    },
    {
     "name": "stderr",
     "output_type": "stream",
     "text": [
      "100%|██████████| 6469/6469 [03:51<00:00, 27.90it/s]\n"
     ]
    },
    {
     "name": "stdout",
     "output_type": "stream",
     "text": [
      "val Loss: 1.5957 Acc: 0.6075\n",
      "\n",
      "Epoch 4/20\n",
      "----------\n"
     ]
    },
    {
     "name": "stderr",
     "output_type": "stream",
     "text": [
      "100%|██████████| 25875/25875 [47:37<00:00,  9.05it/s]\n"
     ]
    },
    {
     "name": "stdout",
     "output_type": "stream",
     "text": [
      "train Loss: 1.1188 Acc: 0.7151\n"
     ]
    },
    {
     "name": "stderr",
     "output_type": "stream",
     "text": [
      "100%|██████████| 6469/6469 [03:54<00:00, 27.54it/s]\n"
     ]
    },
    {
     "name": "stdout",
     "output_type": "stream",
     "text": [
      "val Loss: 1.1327 Acc: 0.7182\n",
      "\n",
      "Epoch 5/20\n",
      "----------\n"
     ]
    },
    {
     "name": "stderr",
     "output_type": "stream",
     "text": [
      "100%|██████████| 25875/25875 [47:20<00:00,  9.11it/s]\n"
     ]
    },
    {
     "name": "stdout",
     "output_type": "stream",
     "text": [
      "train Loss: 1.0648 Acc: 0.7264\n"
     ]
    },
    {
     "name": "stderr",
     "output_type": "stream",
     "text": [
      "100%|██████████| 6469/6469 [03:51<00:00, 27.89it/s]\n"
     ]
    },
    {
     "name": "stdout",
     "output_type": "stream",
     "text": [
      "val Loss: 1.5308 Acc: 0.6226\n",
      "\n",
      "Epoch 6/20\n",
      "----------\n"
     ]
    },
    {
     "name": "stderr",
     "output_type": "stream",
     "text": [
      "100%|██████████| 25875/25875 [50:11<00:00,  8.59it/s] \n"
     ]
    },
    {
     "name": "stdout",
     "output_type": "stream",
     "text": [
      "train Loss: 1.0204 Acc: 0.7364\n"
     ]
    },
    {
     "name": "stderr",
     "output_type": "stream",
     "text": [
      "100%|██████████| 6469/6469 [05:03<00:00, 21.31it/s]\n"
     ]
    },
    {
     "name": "stdout",
     "output_type": "stream",
     "text": [
      "val Loss: 1.1138 Acc: 0.7249\n",
      "\n",
      "Epoch 7/20\n",
      "----------\n"
     ]
    },
    {
     "name": "stderr",
     "output_type": "stream",
     "text": [
      "100%|██████████| 25875/25875 [49:38<00:00,  8.69it/s] \n"
     ]
    },
    {
     "name": "stdout",
     "output_type": "stream",
     "text": [
      "train Loss: 0.9813 Acc: 0.7443\n"
     ]
    },
    {
     "name": "stderr",
     "output_type": "stream",
     "text": [
      "100%|██████████| 6469/6469 [04:52<00:00, 22.09it/s]\n"
     ]
    },
    {
     "name": "stdout",
     "output_type": "stream",
     "text": [
      "val Loss: 1.0951 Acc: 0.7286\n",
      "\n",
      "Epoch 8/20\n",
      "----------\n"
     ]
    },
    {
     "name": "stderr",
     "output_type": "stream",
     "text": [
      "100%|██████████| 25875/25875 [48:56<00:00,  8.81it/s]\n"
     ]
    },
    {
     "name": "stdout",
     "output_type": "stream",
     "text": [
      "train Loss: 0.9465 Acc: 0.7527\n"
     ]
    },
    {
     "name": "stderr",
     "output_type": "stream",
     "text": [
      "100%|██████████| 6469/6469 [04:50<00:00, 22.27it/s]\n"
     ]
    },
    {
     "name": "stdout",
     "output_type": "stream",
     "text": [
      "val Loss: 1.0990 Acc: 0.7294\n",
      "\n",
      "Epoch 9/20\n",
      "----------\n"
     ]
    },
    {
     "name": "stderr",
     "output_type": "stream",
     "text": [
      "100%|██████████| 25875/25875 [49:51<00:00,  8.65it/s]\n"
     ]
    },
    {
     "name": "stdout",
     "output_type": "stream",
     "text": [
      "train Loss: 0.9154 Acc: 0.7590\n"
     ]
    },
    {
     "name": "stderr",
     "output_type": "stream",
     "text": [
      "100%|██████████| 6469/6469 [04:52<00:00, 22.09it/s]\n"
     ]
    },
    {
     "name": "stdout",
     "output_type": "stream",
     "text": [
      "val Loss: 1.0968 Acc: 0.7317\n",
      "\n",
      "Epoch 10/20\n",
      "----------\n"
     ]
    },
    {
     "name": "stderr",
     "output_type": "stream",
     "text": [
      "100%|██████████| 25875/25875 [50:14<00:00,  8.58it/s] \n"
     ]
    },
    {
     "name": "stdout",
     "output_type": "stream",
     "text": [
      "train Loss: 0.8875 Acc: 0.7650\n"
     ]
    },
    {
     "name": "stderr",
     "output_type": "stream",
     "text": [
      "100%|██████████| 6469/6469 [04:57<00:00, 21.73it/s]\n"
     ]
    },
    {
     "name": "stdout",
     "output_type": "stream",
     "text": [
      "val Loss: 1.0962 Acc: 0.7316\n",
      "\n",
      "Epoch 11/20\n",
      "----------\n"
     ]
    },
    {
     "name": "stderr",
     "output_type": "stream",
     "text": [
      "100%|██████████| 25875/25875 [50:08<00:00,  8.60it/s]\n"
     ]
    },
    {
     "name": "stdout",
     "output_type": "stream",
     "text": [
      "train Loss: 0.7159 Acc: 0.8086\n"
     ]
    },
    {
     "name": "stderr",
     "output_type": "stream",
     "text": [
      "100%|██████████| 6469/6469 [04:57<00:00, 21.78it/s]\n"
     ]
    },
    {
     "name": "stdout",
     "output_type": "stream",
     "text": [
      "val Loss: 1.0554 Acc: 0.7470\n",
      "\n",
      "Epoch 12/20\n",
      "----------\n"
     ]
    },
    {
     "name": "stderr",
     "output_type": "stream",
     "text": [
      "100%|██████████| 25875/25875 [49:23<00:00,  8.73it/s]\n"
     ]
    },
    {
     "name": "stdout",
     "output_type": "stream",
     "text": [
      "train Loss: 0.6641 Acc: 0.8210\n"
     ]
    },
    {
     "name": "stderr",
     "output_type": "stream",
     "text": [
      "100%|██████████| 6469/6469 [03:52<00:00, 27.86it/s]\n"
     ]
    },
    {
     "name": "stdout",
     "output_type": "stream",
     "text": [
      "val Loss: 1.0701 Acc: 0.7472\n",
      "\n",
      "Epoch 13/20\n",
      "----------\n"
     ]
    },
    {
     "name": "stderr",
     "output_type": "stream",
     "text": [
      "100%|██████████| 25875/25875 [47:10<00:00,  9.14it/s]\n"
     ]
    },
    {
     "name": "stdout",
     "output_type": "stream",
     "text": [
      "train Loss: 0.6381 Acc: 0.8277\n"
     ]
    },
    {
     "name": "stderr",
     "output_type": "stream",
     "text": [
      "100%|██████████| 6469/6469 [03:52<00:00, 27.84it/s]\n"
     ]
    },
    {
     "name": "stdout",
     "output_type": "stream",
     "text": [
      "val Loss: 1.0737 Acc: 0.7461\n",
      "\n",
      "Epoch 14/20\n",
      "----------\n"
     ]
    },
    {
     "name": "stderr",
     "output_type": "stream",
     "text": [
      "100%|██████████| 25875/25875 [47:15<00:00,  9.13it/s]\n"
     ]
    },
    {
     "name": "stdout",
     "output_type": "stream",
     "text": [
      "train Loss: 0.6182 Acc: 0.8324\n"
     ]
    },
    {
     "name": "stderr",
     "output_type": "stream",
     "text": [
      "100%|██████████| 6469/6469 [03:52<00:00, 27.88it/s]\n"
     ]
    },
    {
     "name": "stdout",
     "output_type": "stream",
     "text": [
      "val Loss: 1.0880 Acc: 0.7455\n",
      "\n",
      "Epoch 15/20\n",
      "----------\n"
     ]
    },
    {
     "name": "stderr",
     "output_type": "stream",
     "text": [
      "100%|██████████| 25875/25875 [47:08<00:00,  9.15it/s]\n"
     ]
    },
    {
     "name": "stdout",
     "output_type": "stream",
     "text": [
      "train Loss: 0.6005 Acc: 0.8362\n"
     ]
    },
    {
     "name": "stderr",
     "output_type": "stream",
     "text": [
      "100%|██████████| 6469/6469 [03:52<00:00, 27.87it/s]\n"
     ]
    },
    {
     "name": "stdout",
     "output_type": "stream",
     "text": [
      "val Loss: 1.0961 Acc: 0.7443\n",
      "\n",
      "Epoch 16/20\n",
      "----------\n"
     ]
    },
    {
     "name": "stderr",
     "output_type": "stream",
     "text": [
      "100%|██████████| 25875/25875 [47:09<00:00,  9.15it/s]\n"
     ]
    },
    {
     "name": "stdout",
     "output_type": "stream",
     "text": [
      "train Loss: 0.5848 Acc: 0.8407\n"
     ]
    },
    {
     "name": "stderr",
     "output_type": "stream",
     "text": [
      "100%|██████████| 6469/6469 [03:52<00:00, 27.85it/s]\n"
     ]
    },
    {
     "name": "stdout",
     "output_type": "stream",
     "text": [
      "val Loss: 1.1069 Acc: 0.7441\n",
      "\n",
      "Epoch 17/20\n",
      "----------\n"
     ]
    },
    {
     "name": "stderr",
     "output_type": "stream",
     "text": [
      "100%|██████████| 25875/25875 [47:13<00:00,  9.13it/s]\n"
     ]
    },
    {
     "name": "stdout",
     "output_type": "stream",
     "text": [
      "train Loss: 0.5715 Acc: 0.8434\n"
     ]
    },
    {
     "name": "stderr",
     "output_type": "stream",
     "text": [
      "100%|██████████| 6469/6469 [03:53<00:00, 27.72it/s]\n"
     ]
    },
    {
     "name": "stdout",
     "output_type": "stream",
     "text": [
      "val Loss: 1.1176 Acc: 0.7431\n",
      "\n",
      "Epoch 18/20\n",
      "----------\n"
     ]
    },
    {
     "name": "stderr",
     "output_type": "stream",
     "text": [
      "100%|██████████| 25875/25875 [47:45<00:00,  9.03it/s]\n"
     ]
    },
    {
     "name": "stdout",
     "output_type": "stream",
     "text": [
      "train Loss: 0.5578 Acc: 0.8467\n"
     ]
    },
    {
     "name": "stderr",
     "output_type": "stream",
     "text": [
      "100%|██████████| 6469/6469 [03:52<00:00, 27.82it/s]\n"
     ]
    },
    {
     "name": "stdout",
     "output_type": "stream",
     "text": [
      "val Loss: 1.1342 Acc: 0.7419\n",
      "\n",
      "Epoch 19/20\n",
      "----------\n"
     ]
    },
    {
     "name": "stderr",
     "output_type": "stream",
     "text": [
      "100%|██████████| 25875/25875 [47:13<00:00,  9.13it/s]\n"
     ]
    },
    {
     "name": "stdout",
     "output_type": "stream",
     "text": [
      "train Loss: 0.5459 Acc: 0.8491\n"
     ]
    },
    {
     "name": "stderr",
     "output_type": "stream",
     "text": [
      "100%|██████████| 6469/6469 [03:52<00:00, 27.82it/s]\n"
     ]
    },
    {
     "name": "stdout",
     "output_type": "stream",
     "text": [
      "val Loss: 1.1417 Acc: 0.7410\n",
      "\n",
      "Epoch 20/20\n",
      "----------\n"
     ]
    },
    {
     "name": "stderr",
     "output_type": "stream",
     "text": [
      "100%|██████████| 25875/25875 [47:49<00:00,  9.02it/s]\n"
     ]
    },
    {
     "name": "stdout",
     "output_type": "stream",
     "text": [
      "train Loss: 0.5342 Acc: 0.8521\n"
     ]
    },
    {
     "name": "stderr",
     "output_type": "stream",
     "text": [
      "100%|██████████| 6469/6469 [03:56<00:00, 27.36it/s]\n"
     ]
    },
    {
     "name": "stdout",
     "output_type": "stream",
     "text": [
      "val Loss: 1.1481 Acc: 0.7401\n",
      "\n",
      "학습 완료: 1051m 27s\n",
      "최고 검증 정확도: 0.7472\n"
     ]
    },
    {
     "data": {
      "image/png": "[encoded data removed]",
      "text/plain": [
       "<Figure size 1200x400 with 2 Axes>"
      ]
     },
     "metadata": {},
     "output_type": "display_data"
    },
    {
     "name": "stdout",
     "output_type": "stream",
     "text": [
      "검증 세트에서 모델 평가 중...\n"
     ]
    },
    {
     "name": "stderr",
     "output_type": "stream",
     "text": [
      "100%|██████████| 6469/6469 [03:52<00:00, 27.84it/s]"
     ]
    },
    {
     "name": "stdout",
     "output_type": "stream",
     "text": [
      "테스트 정확도: 74.01%\n",
      "모델이 efficientnet_b0_quickdraw.pth에 저장되었습니다.\n"
     ]
    },
    {
     "name": "stderr",
     "output_type": "stream",
     "text": [
      "\n"
     ]
    }
   ],
   "source": [
    "main()"
   ]
  },
  {
   "cell_type": "code",
   "execution_count": null,
   "id": "ebb560a3",
   "metadata": {},
   "outputs": [],
   "source": []
  }
 ],
 "metadata": {
  "kernelspec": {
   "display_name": "Python 3",
   "language": "python",
   "name": "python3"
  },
  "language_info": {
   "codemirror_mode": {
    "name": "ipython",
    "version": 3
   },
   "file_extension": ".py",
   "mimetype": "text/x-python",
   "name": "python",
   "nbconvert_exporter": "python",
   "pygments_lexer": "ipython3",
   "version": "3.10.11"
  }
 },
 "nbformat": 4,
 "nbformat_minor": 5
}
